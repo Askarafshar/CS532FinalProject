{
 "cells": [
  {
   "cell_type": "code",
   "execution_count": 72,
   "metadata": {},
   "outputs": [],
   "source": [
    "import numpy as np\n",
    "import pandas as pd\n",
    "import warnings\n",
    "warnings.filterwarnings('ignore')\n",
    "from matplotlib import pyplot as plt\n",
    "from io import StringIO\n",
    "import collections\n",
    "from sklearn.model_selection import train_test_split\n",
    "from sklearn.metrics import confusion_matrix, classification_report, accuracy_score\n",
    "from sklearn.preprocessing import StandardScaler\n",
    "from sklearn.linear_model import LogisticRegression\n",
    "from sklearn.neighbors import KNeighborsClassifier\n",
    "from sklearn.svm import SVC\n",
    "from sklearn.naive_bayes import GaussianNB\n",
    "from sklearn.tree import DecisionTreeClassifier\n",
    "from sklearn.tree import ExtraTreeClassifier\n",
    "from sklearn.ensemble import RandomForestClassifier\n",
    "from lmfit import Model\n",
    "from sklearn.model_selection import GridSearchCV\n",
    "from sklearn.model_selection import RandomizedSearchCV\n",
    "from sklearn import neighbors\n",
    "from sklearn.decomposition import PCA\n",
    "from sklearn.manifold import TSNE\n",
    "import seaborn as sns\n",
    "import umap\n",
    "#from tpot import TPOTClassifier\n",
    "import warnings"
   ]
  },
  {
   "cell_type": "code",
   "execution_count": 73,
   "metadata": {},
   "outputs": [],
   "source": [
    "#read features into Pandas DataFrame\n",
    "data=pd.read_csv('data.csv')"
   ]
  },
  {
   "cell_type": "code",
   "execution_count": 74,
   "metadata": {},
   "outputs": [
    {
     "data": {
      "text/plain": [
       "(801, 20532)"
      ]
     },
     "execution_count": 74,
     "metadata": {},
     "output_type": "execute_result"
    }
   ],
   "source": [
    "data.shape"
   ]
  },
  {
   "cell_type": "code",
   "execution_count": 75,
   "metadata": {},
   "outputs": [],
   "source": [
    "#read labels\n",
    "labels =pd.read_csv('labels.csv')"
   ]
  },
  {
   "cell_type": "code",
   "execution_count": 76,
   "metadata": {},
   "outputs": [
    {
     "data": {
      "text/html": [
       "<div>\n",
       "<style scoped>\n",
       "    .dataframe tbody tr th:only-of-type {\n",
       "        vertical-align: middle;\n",
       "    }\n",
       "\n",
       "    .dataframe tbody tr th {\n",
       "        vertical-align: top;\n",
       "    }\n",
       "\n",
       "    .dataframe thead th {\n",
       "        text-align: right;\n",
       "    }\n",
       "</style>\n",
       "<table border=\"1\" class=\"dataframe\">\n",
       "  <thead>\n",
       "    <tr style=\"text-align: right;\">\n",
       "      <th></th>\n",
       "      <th>Unnamed: 0</th>\n",
       "      <th>Class</th>\n",
       "    </tr>\n",
       "  </thead>\n",
       "  <tbody>\n",
       "    <tr>\n",
       "      <th>0</th>\n",
       "      <td>sample_0</td>\n",
       "      <td>PRAD</td>\n",
       "    </tr>\n",
       "    <tr>\n",
       "      <th>1</th>\n",
       "      <td>sample_1</td>\n",
       "      <td>LUAD</td>\n",
       "    </tr>\n",
       "    <tr>\n",
       "      <th>2</th>\n",
       "      <td>sample_2</td>\n",
       "      <td>PRAD</td>\n",
       "    </tr>\n",
       "    <tr>\n",
       "      <th>3</th>\n",
       "      <td>sample_3</td>\n",
       "      <td>PRAD</td>\n",
       "    </tr>\n",
       "    <tr>\n",
       "      <th>4</th>\n",
       "      <td>sample_4</td>\n",
       "      <td>BRCA</td>\n",
       "    </tr>\n",
       "  </tbody>\n",
       "</table>\n",
       "</div>"
      ],
      "text/plain": [
       "  Unnamed: 0 Class\n",
       "0   sample_0  PRAD\n",
       "1   sample_1  LUAD\n",
       "2   sample_2  PRAD\n",
       "3   sample_3  PRAD\n",
       "4   sample_4  BRCA"
      ]
     },
     "execution_count": 76,
     "metadata": {},
     "output_type": "execute_result"
    }
   ],
   "source": [
    "labels.head()"
   ]
  },
  {
   "cell_type": "code",
   "execution_count": 77,
   "metadata": {},
   "outputs": [],
   "source": [
    "#drop datapoints ID\n",
    "X = data.drop(data.columns[0],axis=1)\n",
    "Y = labels.Class\n",
    "X = X.values\n",
    "Y = np.array(Y)"
   ]
  },
  {
   "cell_type": "code",
   "execution_count": 78,
   "metadata": {},
   "outputs": [
    {
     "data": {
      "text/plain": [
       "Counter({'PRAD': 136, 'LUAD': 141, 'BRCA': 300, 'KIRC': 146, 'COAD': 78})"
      ]
     },
     "execution_count": 78,
     "metadata": {},
     "output_type": "execute_result"
    }
   ],
   "source": [
    "count_labels = collections.Counter(Y)\n",
    "count_labels"
   ]
  },
  {
   "cell_type": "code",
   "execution_count": 79,
   "metadata": {},
   "outputs": [
    {
     "data": {
      "text/plain": [
       "<BarContainer object of 5 artists>"
      ]
     },
     "execution_count": 79,
     "metadata": {},
     "output_type": "execute_result"
    },
    {
     "data": {
      "image/png": "[encoded data removed]",
      "text/plain": [
       "<Figure size 432x288 with 1 Axes>"
      ]
     },
     "metadata": {
      "needs_background": "light"
     },
     "output_type": "display_data"
    }
   ],
   "source": [
    "cnt = collections.Counter(count_labels)\n",
    "plt.bar(cnt.keys(), cnt.values())"
   ]
  },
  {
   "cell_type": "code",
   "execution_count": 80,
   "metadata": {},
   "outputs": [],
   "source": [
    "Xt = X[:200,:]\n",
    "Yt = Y[:200]\n",
    "\n",
    "Xv1 = X[200:400,:]\n",
    "Yv1 = Y[200:400]\n",
    "\n",
    "Xv2 = X[400:600,:]\n",
    "Yv2 = Y[400:600]"
   ]
  },
  {
   "cell_type": "code",
   "execution_count": 81,
   "metadata": {},
   "outputs": [
    {
     "data": {
      "text/plain": [
       "((200, 20531), (200, 20531), (200, 20531))"
      ]
     },
     "execution_count": 81,
     "metadata": {},
     "output_type": "execute_result"
    }
   ],
   "source": [
    "Xt.shape, Xv1.shape, Xv2.shape"
   ]
  },
  {
   "cell_type": "markdown",
   "metadata": {},
   "source": [
    "## Principal component analysis (PCA)"
   ]
  },
  {
   "cell_type": "code",
   "execution_count": 88,
   "metadata": {},
   "outputs": [
    {
     "data": {
      "text/plain": [
       "array([[-6.92845234e+01,  1.22758590e+02,  4.36730233e+01, ...,\n",
       "        -1.56008615e-01, -1.95688074e-01,  9.95931529e-14],\n",
       "       [ 1.41076711e+01, -8.56167166e+01,  5.04881579e+01, ...,\n",
       "         1.78804848e-01,  3.34504380e-01,  9.95931529e-14],\n",
       "       [-6.66606360e+01,  1.85613260e+01,  4.77366171e+01, ...,\n",
       "         5.53711482e-01, -4.29907618e-01,  9.95931529e-14],\n",
       "       ...,\n",
       "       [-5.29462112e+01, -5.74812141e+01, -7.32971780e+01, ...,\n",
       "         7.59861041e-02,  5.04320986e-02,  9.95931529e-14],\n",
       "       [ 1.51180044e+01, -6.47089571e+01,  5.34666882e+01, ...,\n",
       "         1.15697041e-01,  3.09529867e-01,  9.95931529e-14],\n",
       "       [ 1.37167206e+01, -4.85377611e+01,  3.89509567e+01, ...,\n",
       "         3.29564416e-01,  8.42573948e-01,  9.95931529e-14]])"
      ]
     },
     "execution_count": 88,
     "metadata": {},
     "output_type": "execute_result"
    }
   ],
   "source": [
    "pca = PCA()\n",
    "pca.fit_transform(Xt)"
   ]
  },
  {
   "cell_type": "code",
   "execution_count": 89,
   "metadata": {},
   "outputs": [
    {
     "name": "stdout",
     "output_type": "stream",
     "text": [
      "3 features explain around 0.35  of the variance. From 20531 features to 3\n"
     ]
    }
   ],
   "source": [
    "total = sum(pca.explained_variance_)\n",
    "k = 0\n",
    "th = 0.35\n",
    "current_variance = 0\n",
    "while current_variance/total < th:\n",
    "    current_variance += pca.explained_variance_[k]\n",
    "    k = k + 1\n",
    "print(k, \" features explain around \", th,\"  of the variance. From 20531 features to \", k, sep='')"
   ]
  },
  {
   "cell_type": "code",
   "execution_count": 90,
   "metadata": {},
   "outputs": [
    {
     "data": {
      "image/png": "[encoded data removed]",
      "text/plain": [
       "<Figure size 432x288 with 1 Axes>"
      ]
     },
     "metadata": {
      "needs_background": "light"
     },
     "output_type": "display_data"
    }
   ],
   "source": [
    "pca = PCA(n_components=k)\n",
    "Xt_pca = pca.fit_transform(Xt)\n",
    "Xv1_pca = pca.transform(Xv1)\n",
    "Xv2_pca = pca.transform(Xv2)\n",
    "\n",
    "var_exp = pca.explained_variance_ratio_.cumsum()\n",
    "var_exp = var_exp*100\n",
    "plt.bar(range(k), var_exp)\n",
    "plt.title(\"Around 35% of variance is explained by the 3 features\");\n"
   ]
  },
  {
   "cell_type": "code",
   "execution_count": 92,
   "metadata": {},
   "outputs": [
    {
     "data": {
      "text/plain": [
       "array([[-6.92845234e+01,  1.22758590e+02,  4.36730233e+01, ...,\n",
       "        -1.56008615e-01, -1.95688074e-01,  9.95931529e-14],\n",
       "       [ 1.41076711e+01, -8.56167166e+01,  5.04881579e+01, ...,\n",
       "         1.78804848e-01,  3.34504380e-01,  9.95931529e-14],\n",
       "       [-6.66606360e+01,  1.85613260e+01,  4.77366171e+01, ...,\n",
       "         5.53711482e-01, -4.29907618e-01,  9.95931529e-14],\n",
       "       ...,\n",
       "       [-5.29462112e+01, -5.74812141e+01, -7.32971780e+01, ...,\n",
       "         7.59861041e-02,  5.04320986e-02,  9.95931529e-14],\n",
       "       [ 1.51180044e+01, -6.47089571e+01,  5.34666882e+01, ...,\n",
       "         1.15697041e-01,  3.09529867e-01,  9.95931529e-14],\n",
       "       [ 1.37167206e+01, -4.85377611e+01,  3.89509567e+01, ...,\n",
       "         3.29564416e-01,  8.42573948e-01,  9.95931529e-14]])"
      ]
     },
     "execution_count": 92,
     "metadata": {},
     "output_type": "execute_result"
    }
   ],
   "source": [
    "pca99 = PCA()\n",
    "pca99.fit_transform(Xt)"
   ]
  },
  {
   "cell_type": "code",
   "execution_count": 96,
   "metadata": {},
   "outputs": [
    {
     "name": "stdout",
     "output_type": "stream",
     "text": [
      "183 features explain around 0.99%  of the variance. From 20531 features to 183\n"
     ]
    }
   ],
   "source": [
    "total2 = sum(pca99.explained_variance_)\n",
    "l = 0\n",
    "t = 0.99\n",
    "c = 0\n",
    "while c/total2 < t:\n",
    "    c += pca99.explained_variance_[l]\n",
    "    l = l + 1\n",
    "print(l, \" features explain around \", t,\"%  of the variance. From 20531 features to \", l, sep='')"
   ]
  },
  {
   "cell_type": "code",
   "execution_count": 103,
   "metadata": {},
   "outputs": [
    {
     "data": {
      "image/png": "[encoded data removed]",
      "text/plain": [
       "<Figure size 432x288 with 1 Axes>"
      ]
     },
     "metadata": {
      "needs_background": "light"
     },
     "output_type": "display_data"
    }
   ],
   "source": [
    "pca99 = PCA(n_components=l)\n",
    "pca99 = pca99.fit(Xt)\n",
    "var_exp = pca99.explained_variance_ratio_.cumsum()\n",
    "var_exp = var_exp*100\n",
    "plt.bar(range(l), var_exp)\n",
    "plt.title(\"Around 99% of variance is explained by the 183 features\");"
   ]
  },
  {
   "cell_type": "code",
   "execution_count": 104,
   "metadata": {},
   "outputs": [],
   "source": [
    "Y_t = np.where(Yt=='PRAD', 0, Yt) \n",
    "Y_t0 = np.where(Yt=='LUAD', 1, Y_t)\n",
    "Y_t1 = np.where(Y_t0=='BRCA', 2, Y_t0)\n",
    "Y_t2 = np.where(Y_t1=='KIRC', 3, Y_t1)\n",
    "Y_t3 = np.where(Y_t2=='COAD', 4, Y_t2)\n",
    "Y_t3 = Y_t3.tolist()"
   ]
  },
  {
   "cell_type": "code",
   "execution_count": 105,
   "metadata": {},
   "outputs": [
    {
     "data": {
      "image/png": "[encoded data removed]",
      "text/plain": [
       "<Figure size 432x288 with 1 Axes>"
      ]
     },
     "metadata": {
      "needs_background": "light"
     },
     "output_type": "display_data"
    }
   ],
   "source": [
    "from mpl_toolkits.mplot3d import Axes3D\n",
    "pca3 = PCA(n_components=3).fit(Xt)\n",
    "X_train_reduced = pca3.transform(Xt)\n",
    "\n",
    "plt.clf()\n",
    "fig = plt.figure(1, figsize=(10,6 ))\n",
    "ax = Axes3D(fig, elev=-150, azim=110,)\n",
    "ax.scatter(X_train_reduced[:, 0], X_train_reduced[:, 1], X_train_reduced[:, 2], c = Y_t3, cmap = plt.cm.Paired, linewidths=10)\n",
    "ax.set_title(\"First three PCA directions\")\n",
    "ax.set_xlabel(\"1st eigenvector\")\n",
    "ax.w_xaxis.set_ticklabels([])\n",
    "ax.set_ylabel(\"2nd eigenvector\")\n",
    "ax.w_yaxis.set_ticklabels([])\n",
    "ax.set_zlabel(\"3rd eigenvector\")\n",
    "ax.w_zaxis.set_ticklabels([]);"
   ]
  },
  {
   "cell_type": "markdown",
   "metadata": {},
   "source": [
    "## Support Vector Machine\n",
    "\n",
    "Cross validation has been used for evaluation technique to optimize the model performance."
   ]
  },
  {
   "cell_type": "code",
   "execution_count": 106,
   "metadata": {},
   "outputs": [
    {
     "data": {
      "text/plain": [
       "((200, 3), (200, 3))"
      ]
     },
     "execution_count": 106,
     "metadata": {},
     "output_type": "execute_result"
    }
   ],
   "source": [
    "Xt_pca.shape, Xv1_pca.shape"
   ]
  },
  {
   "cell_type": "code",
   "execution_count": 107,
   "metadata": {},
   "outputs": [
    {
     "name": "stdout",
     "output_type": "stream",
     "text": [
      "Fitting 5 folds for each of 24 candidates, totalling 120 fits\n"
     ]
    },
    {
     "name": "stderr",
     "output_type": "stream",
     "text": [
      "[Parallel(n_jobs=1)]: Using backend SequentialBackend with 1 concurrent workers.\n"
     ]
    },
    {
     "name": "stdout",
     "output_type": "stream",
     "text": [
      "Best Parameters:\n",
      " {'C': 10, 'gamma': 1e-05, 'kernel': 'rbf'}\n",
      "Best Estimators:\n",
      " SVC(C=10, decision_function_shape='ovo', gamma=1e-05)\n"
     ]
    },
    {
     "name": "stderr",
     "output_type": "stream",
     "text": [
      "[Parallel(n_jobs=1)]: Done 120 out of 120 | elapsed:    0.4s finished\n"
     ]
    }
   ],
   "source": [
    "from sklearn import svm\n",
    "# Grid Search\n",
    "# Parameter Grid\n",
    "param_grid = {'C': [0.1, 1, 10, 100], 'gamma': [1, 0.1, 0.01, 0.001, 0.00001, 10], 'kernel': ['rbf']} \n",
    "# Make grid search classifier\n",
    "clf_grid = GridSearchCV(svm.SVC(decision_function_shape='ovo'), param_grid, verbose=1)\n",
    "\n",
    "# Train the classifier\n",
    "clf_grid.fit(Xt_pca, Yt)\n",
    "\n",
    "# clf = grid.best_estimator_()\n",
    "print(\"Best Parameters:\\n\", clf_grid.best_params_)\n",
    "print(\"Best Estimators:\\n\", clf_grid.best_estimator_)\n"
   ]
  },
  {
   "cell_type": "code",
   "execution_count": 108,
   "metadata": {},
   "outputs": [],
   "source": [
    "model = svm.SVC(kernel='rbf',decision_function_shape='ovo', C = 10, gamma=1e-05)\n"
   ]
  },
  {
   "cell_type": "code",
   "execution_count": 109,
   "metadata": {},
   "outputs": [
    {
     "name": "stdout",
     "output_type": "stream",
     "text": [
      "Done!\n"
     ]
    }
   ],
   "source": [
    "model.fit(Xt_pca,Yt)\n",
    "pred1=model.predict(Xv1_pca)\n",
    "pred2=model.predict(Xv2_pca)\n",
    "print('Done!')"
   ]
  },
  {
   "cell_type": "code",
   "execution_count": 110,
   "metadata": {},
   "outputs": [
    {
     "data": {
      "text/plain": [
       "array([[74,  0,  0,  1,  0],\n",
       "       [ 0, 17,  0,  6,  0],\n",
       "       [ 0,  0, 41,  0,  0],\n",
       "       [ 0,  0,  0, 30,  0],\n",
       "       [ 0,  0,  0,  0, 31]])"
      ]
     },
     "execution_count": 110,
     "metadata": {},
     "output_type": "execute_result"
    }
   ],
   "source": [
    "confusion_matrix(Yv1, pred1)"
   ]
  },
  {
   "cell_type": "code",
   "execution_count": 111,
   "metadata": {},
   "outputs": [
    {
     "name": "stdout",
     "output_type": "stream",
     "text": [
      "Accuracy:  0.965\n"
     ]
    }
   ],
   "source": [
    "print('Accuracy: ', accuracy_score(Yv1, pred1))"
   ]
  },
  {
   "cell_type": "code",
   "execution_count": 113,
   "metadata": {},
   "outputs": [
    {
     "name": "stdout",
     "output_type": "stream",
     "text": [
      "[[70  0  0  0  0]\n",
      " [ 0 18  0  5  0]\n",
      " [ 0  0 36  0  0]\n",
      " [ 0  0  0 40  0]\n",
      " [ 0  0  0  0 31]]\n"
     ]
    }
   ],
   "source": [
    "print(confusion_matrix(Yv2, pred2))"
   ]
  },
  {
   "cell_type": "code",
   "execution_count": 114,
   "metadata": {},
   "outputs": [
    {
     "name": "stdout",
     "output_type": "stream",
     "text": [
      "Accuracy:  0.975\n"
     ]
    }
   ],
   "source": [
    "print('Accuracy: ', accuracy_score(Yv2, pred2))"
   ]
  },
  {
   "cell_type": "markdown",
   "metadata": {},
   "source": [
    "## KMeans Algorithm"
   ]
  },
  {
   "cell_type": "code",
   "execution_count": 115,
   "metadata": {},
   "outputs": [],
   "source": [
    "from sklearn.cluster import KMeans\n",
    "kmeans = KMeans(n_clusters=5, random_state=0).fit(Xt_pca)\n",
    "km_pred = kmeans.predict(Xv1_pca)\n"
   ]
  },
  {
   "cell_type": "code",
   "execution_count": 116,
   "metadata": {},
   "outputs": [
    {
     "data": {
      "text/plain": [
       "Counter({2: 39, 3: 39, 0: 72, 1: 33, 4: 17})"
      ]
     },
     "execution_count": 116,
     "metadata": {},
     "output_type": "execute_result"
    }
   ],
   "source": [
    "from collections import Counter\n",
    "Counter(kmeans.labels_.tolist())"
   ]
  },
  {
   "cell_type": "code",
   "execution_count": 117,
   "metadata": {},
   "outputs": [
    {
     "data": {
      "text/plain": [
       "Counter({0: 71, 1: 41, 2: 31, 3: 36, 4: 21})"
      ]
     },
     "execution_count": 117,
     "metadata": {},
     "output_type": "execute_result"
    }
   ],
   "source": [
    "Counter(km_pred.tolist())"
   ]
  },
  {
   "cell_type": "code",
   "execution_count": 118,
   "metadata": {},
   "outputs": [
    {
     "data": {
      "text/plain": [
       "Counter({'PRAD': 39, 'LUAD': 40, 'BRCA': 73, 'KIRC': 34, 'COAD': 14})"
      ]
     },
     "execution_count": 118,
     "metadata": {},
     "output_type": "execute_result"
    }
   ],
   "source": [
    "Counter(Yt.tolist())"
   ]
  },
  {
   "cell_type": "code",
   "execution_count": 119,
   "metadata": {},
   "outputs": [],
   "source": [
    "Yt_c = []\n",
    "for n, i in enumerate(Yt.tolist()):\n",
    "    if i == 'PRAD':\n",
    "        Yt_c.append(2)\n",
    "    if i == 'LUAD':\n",
    "        Yt_c.append(3)\n",
    "    if i == 'BRCA':\n",
    "        Yt_c.append(0)\n",
    "    if i == 'KIRC':\n",
    "        Yt_c.append(1)\n",
    "    if i == 'COAD':\n",
    "        Yt_c.append(4)\n",
    "Yv1_c = []\n",
    "for n, i in enumerate(Yv1.tolist()):\n",
    "    if i == 'PRAD':\n",
    "        Yv1_c.append(2)\n",
    "    if i == 'LUAD':\n",
    "        Yv1_c.append(3)\n",
    "    if i == 'BRCA':\n",
    "        Yv1_c.append(0)\n",
    "    if i == 'KIRC':\n",
    "        Yv1_c.append(1)\n",
    "    if i == 'COAD':\n",
    "        Yv1_c.append(4)"
   ]
  },
  {
   "cell_type": "code",
   "execution_count": 120,
   "metadata": {},
   "outputs": [
    {
     "name": "stdout",
     "output_type": "stream",
     "text": [
      "K-means train accuracy: 0.975\n",
      "K-means test accuracy: 0.95\n"
     ]
    },
    {
     "data": {
      "image/png": "[encoded data removed]",
      "text/plain": [
       "<Figure size 432x288 with 2 Axes>"
      ]
     },
     "metadata": {
      "needs_background": "light"
     },
     "output_type": "display_data"
    }
   ],
   "source": [
    "print('K-means train accuracy:', round(accuracy_score(Yt_c, kmeans.labels_.tolist()), 3))\n",
    "cm_km = confusion_matrix(Yv1_c, km_pred.tolist())\n",
    "\n",
    "ax = plt.subplot()\n",
    "sns.heatmap(cm_km, annot=True, ax = ax, fmt='g', cmap='Greens') \n",
    "\n",
    "# labels, title and ticks\n",
    "ax.set_xlabel('Predicted labels')\n",
    "ax.set_ylabel('True labels') \n",
    "ax.set_title('K-means Confusion Matrix') \n",
    "ax.xaxis.set_ticklabels(labels) \n",
    "ax.yaxis.set_ticklabels(labels, rotation=360);\n",
    "print('K-means test accuracy:', round(accuracy_score(Yv1_c, km_pred.tolist()), 3))"
   ]
  },
  {
   "cell_type": "code",
   "execution_count": 121,
   "metadata": {},
   "outputs": [
    {
     "data": {
      "text/plain": [
       "array([[-6.92845234e+01,  1.22758590e+02,  4.36730233e+01, ...,\n",
       "        -1.56008615e-01, -1.95688074e-01,  9.95931529e-14],\n",
       "       [ 1.41076711e+01, -8.56167166e+01,  5.04881579e+01, ...,\n",
       "         1.78804848e-01,  3.34504380e-01,  9.95931529e-14],\n",
       "       [-6.66606360e+01,  1.85613260e+01,  4.77366171e+01, ...,\n",
       "         5.53711482e-01, -4.29907618e-01,  9.95931529e-14],\n",
       "       ...,\n",
       "       [-5.29462112e+01, -5.74812141e+01, -7.32971780e+01, ...,\n",
       "         7.59861041e-02,  5.04320986e-02,  9.95931529e-14],\n",
       "       [ 1.51180044e+01, -6.47089571e+01,  5.34666882e+01, ...,\n",
       "         1.15697041e-01,  3.09529867e-01,  9.95931529e-14],\n",
       "       [ 1.37167206e+01, -4.85377611e+01,  3.89509567e+01, ...,\n",
       "         3.29564416e-01,  8.42573948e-01,  9.95931529e-14]])"
      ]
     },
     "execution_count": 121,
     "metadata": {},
     "output_type": "execute_result"
    }
   ],
   "source": [
    "pca2 = PCA()\n",
    "pca2.fit_transform(Xt)"
   ]
  },
  {
   "cell_type": "code",
   "execution_count": 122,
   "metadata": {},
   "outputs": [
    {
     "name": "stdout",
     "output_type": "stream",
     "text": [
      "13 features explain around 99% of the variance. From 20531 features to 13\n"
     ]
    }
   ],
   "source": [
    "total = sum(pca2.explained_variance_)\n",
    "l = 0\n",
    "current_variance = 0\n",
    "while current_variance/total < 0.60:\n",
    "    current_variance += pca2.explained_variance_[l]\n",
    "    l = l + 1\n",
    "print(l, \" features explain around 99% of the variance. From 20531 features to \", l, sep='')"
   ]
  },
  {
   "cell_type": "code",
   "execution_count": 123,
   "metadata": {},
   "outputs": [
    {
     "data": {
      "image/png": "[encoded data removed]",
      "text/plain": [
       "<Figure size 432x288 with 1 Axes>"
      ]
     },
     "metadata": {
      "needs_background": "light"
     },
     "output_type": "display_data"
    }
   ],
   "source": [
    "pca2 = PCA(n_components=l)\n",
    "Xt_pca2 = pca2.fit_transform(Xt)\n",
    "Xv1_pca2 = pca2.transform(Xv1)\n",
    "Xv2_pca2 = pca2.transform(Xv2)\n",
    "\n",
    "var_exp = pca2.explained_variance_ratio_.cumsum()\n",
    "var_exp = var_exp*100\n",
    "plt.bar(range(l), var_exp)\n",
    "plt.title(\"Around 60% of variance is explained by the 13 features\");"
   ]
  },
  {
   "cell_type": "code",
   "execution_count": 124,
   "metadata": {},
   "outputs": [],
   "source": [
    "kmeans2 = KMeans(n_clusters=5, random_state=0).fit(Xt_pca2)\n",
    "km_pred2 = kmeans2.predict(Xv1_pca2)"
   ]
  },
  {
   "cell_type": "code",
   "execution_count": 125,
   "metadata": {},
   "outputs": [
    {
     "data": {
      "text/plain": [
       "Counter({2: 39, 4: 40, 1: 74, 3: 33, 0: 14})"
      ]
     },
     "execution_count": 125,
     "metadata": {},
     "output_type": "execute_result"
    }
   ],
   "source": [
    "Counter(kmeans2.labels_.tolist())"
   ]
  },
  {
   "cell_type": "code",
   "execution_count": 126,
   "metadata": {},
   "outputs": [
    {
     "data": {
      "text/plain": [
       "Counter({'PRAD': 39, 'LUAD': 40, 'BRCA': 73, 'KIRC': 34, 'COAD': 14})"
      ]
     },
     "execution_count": 126,
     "metadata": {},
     "output_type": "execute_result"
    }
   ],
   "source": [
    "Counter(Yt.tolist())"
   ]
  },
  {
   "cell_type": "code",
   "execution_count": 127,
   "metadata": {},
   "outputs": [],
   "source": [
    "Yt_c2 = []\n",
    "for n, i in enumerate(Yt.tolist()):\n",
    "    if i == 'PRAD':\n",
    "        Yt_c2.append(2)\n",
    "    if i == 'LUAD':\n",
    "        Yt_c2.append(4)\n",
    "    if i == 'BRCA':\n",
    "        Yt_c2.append(1)\n",
    "    if i == 'KIRC':\n",
    "        Yt_c2.append(3)\n",
    "    if i == 'COAD':\n",
    "        Yt_c2.append(0)\n",
    "Yv1_c2 = []\n",
    "for n, i in enumerate(Yv1.tolist()):\n",
    "    if i == 'PRAD':\n",
    "        Yv1_c2.append(2)\n",
    "    if i == 'LUAD':\n",
    "        Yv1_c2.append(4)\n",
    "    if i == 'BRCA':\n",
    "        Yv1_c2.append(1)\n",
    "    if i == 'KIRC':\n",
    "        Yv1_c2.append(3)\n",
    "    if i == 'COAD':\n",
    "        Yv1_c2.append(0)"
   ]
  },
  {
   "cell_type": "code",
   "execution_count": 128,
   "metadata": {},
   "outputs": [
    {
     "name": "stdout",
     "output_type": "stream",
     "text": [
      "K-means_2 train accuracy: 0.99\n",
      "K-means_2 test accuracy: 0.995\n"
     ]
    },
    {
     "data": {
      "image/png": "[encoded data removed]",
      "text/plain": [
       "<Figure size 432x288 with 2 Axes>"
      ]
     },
     "metadata": {
      "needs_background": "light"
     },
     "output_type": "display_data"
    }
   ],
   "source": [
    "print('K-means_2 train accuracy:', round(accuracy_score(Yt_c2, kmeans2.labels_.tolist()), 3))\n",
    "cm_km2 = confusion_matrix(Yv1_c2, km_pred2.tolist())\n",
    "\n",
    "ax = plt.subplot()\n",
    "sns.heatmap(cm_km2, annot=True, ax = ax, fmt='g', cmap='Greens') \n",
    "\n",
    "# labels, title and ticks\n",
    "ax.set_xlabel('Predicted labels')\n",
    "ax.set_ylabel('True labels') \n",
    "ax.set_title('K-means_2 Confusion Matrix') \n",
    "ax.xaxis.set_ticklabels(labels) \n",
    "ax.yaxis.set_ticklabels(labels, rotation=360);\n",
    "print('K-means_2 test accuracy:', round(accuracy_score(Yv1_c2, km_pred2.tolist()), 3))"
   ]
  },
  {
   "cell_type": "markdown",
   "metadata": {},
   "source": [
    "## Neural Network"
   ]
  },
  {
   "cell_type": "code",
   "execution_count": 129,
   "metadata": {},
   "outputs": [
    {
     "data": {
      "text/plain": [
       "array([0, 1, 0, 0, 2, 0, 3, 0, 2, 0, 2, 3, 0, 2, 2, 2, 1, 3, 3, 0, 2, 3,\n",
       "       1, 2, 3, 1, 4, 2, 2, 2, 2, 2, 3, 2, 0, 2, 3, 1, 2, 2, 3, 0, 0, 3,\n",
       "       3, 2, 0, 4, 2, 1, 2, 1, 2, 0, 4, 2, 2, 4, 3, 2, 1, 3, 2, 1, 0, 4,\n",
       "       2, 0, 3, 2, 3, 2, 2, 1, 2, 1, 2, 3, 0, 4, 2, 0, 2, 2, 0, 0, 2, 2,\n",
       "       3, 2, 0, 0, 2, 2, 2, 0, 4, 2, 0, 2, 2, 3, 2, 3, 1, 3, 1, 4, 1, 1,\n",
       "       0, 2, 1, 0, 2, 3, 3, 3, 2, 2, 1, 3, 1, 2, 0, 0, 0, 2, 3, 1, 4, 2,\n",
       "       4, 2, 2, 3, 1, 2, 3, 4, 2, 0, 2, 3, 1, 4, 0, 2, 1, 1, 1, 1, 2, 2,\n",
       "       1, 2, 2, 0, 0, 1, 0, 1, 3, 2, 0, 1, 4, 3, 1, 2, 3, 1, 2, 1, 2, 2,\n",
       "       2, 0, 2, 3, 4, 3, 2, 0, 0, 0, 1, 1, 2, 1, 1, 3, 1, 0, 1, 2, 2, 2,\n",
       "       1, 1], dtype=object)"
      ]
     },
     "execution_count": 129,
     "metadata": {},
     "output_type": "execute_result"
    }
   ],
   "source": [
    "Y_train = np.where(Yt=='PRAD', 0, Yt) \n",
    "Y_train = np.where(Y_train=='LUAD', 1,Y_train)\n",
    "Y_train = np.where(Y_train=='BRCA', 2, Y_train)\n",
    "Y_train = np.where(Y_train=='KIRC', 3, Y_train)\n",
    "Y_train = np.where(Y_train=='COAD', 4, Y_train)\n",
    "Y_train"
   ]
  },
  {
   "cell_type": "code",
   "execution_count": 130,
   "metadata": {},
   "outputs": [],
   "source": [
    "Y_test = np.where(Yv1=='PRAD', 0, Yv1) \n",
    "Y_test = np.where(Y_test=='LUAD', 1,Y_test)\n",
    "Y_test = np.where(Y_test=='BRCA', 2, Y_test)\n",
    "Y_test = np.where(Y_test=='KIRC', 3, Y_test)\n",
    "Y_test = np.where(Y_test=='COAD', 4, Y_test)"
   ]
  },
  {
   "cell_type": "code",
   "execution_count": 131,
   "metadata": {},
   "outputs": [],
   "source": [
    "from sklearn.preprocessing import LabelEncoder\n",
    "from keras.utils import np_utils\n",
    "# encode class values as integers\n",
    "encoder = LabelEncoder()\n",
    "encoder.fit(Y_test)\n",
    "Y_test = encoder.transform(Y_test)\n",
    "# convert integers to dummy variables (i.e. one hot encoded)\n",
    "Y_test = np_utils.to_categorical(Y_test)\n",
    "\n",
    "##Y_train\n",
    "encoder2 = LabelEncoder()\n",
    "encoder2.fit(Y_train)\n",
    "Y_train = encoder2.transform(Y_train)\n",
    "Y_train = np_utils.to_categorical(Y_train)"
   ]
  },
  {
   "cell_type": "code",
   "execution_count": 132,
   "metadata": {},
   "outputs": [
    {
     "data": {
      "text/plain": [
       "array([[1., 0., 0., 0., 0.],\n",
       "       [0., 1., 0., 0., 0.],\n",
       "       [1., 0., 0., 0., 0.],\n",
       "       [1., 0., 0., 0., 0.],\n",
       "       [0., 0., 1., 0., 0.]])"
      ]
     },
     "execution_count": 132,
     "metadata": {},
     "output_type": "execute_result"
    }
   ],
   "source": [
    "Y_train[:5]"
   ]
  },
  {
   "cell_type": "code",
   "execution_count": 143,
   "metadata": {},
   "outputs": [
    {
     "name": "stdout",
     "output_type": "stream",
     "text": [
      "Train: 97.50% (2.50%)\n"
     ]
    }
   ],
   "source": [
    "from tensorflow.keras.models import Sequential\n",
    "from tensorflow.keras.layers import Conv2D\n",
    "from tensorflow.keras.layers import MaxPool2D\n",
    "from tensorflow.keras.layers import Flatten\n",
    "from tensorflow.keras.layers import Dense\n",
    "from tensorflow.keras.callbacks import EarlyStopping\n",
    "from keras.wrappers.scikit_learn import KerasClassifier\n",
    "from keras.utils import np_utils\n",
    "from sklearn.model_selection import KFold\n",
    "from sklearn.model_selection import cross_val_score\n",
    "# define baseline model\n",
    "def baseline_model():\n",
    "    #create model\n",
    "    model = Sequential()\n",
    "    model.add(Dense(18, input_dim=3, activation='relu'))\n",
    "    model.add(Dense(5, activation='softmax'))\n",
    "    # Compile model\n",
    "    model.compile(loss='categorical_crossentropy', optimizer='adam', metrics=['acc'])\n",
    "    return model\n",
    " \n",
    "estimator = KerasClassifier(build_fn=baseline_model, epochs=200, batch_size=5, verbose=0)\n",
    "kfold = KFold(n_splits=10, shuffle=True)\n",
    "results = cross_val_score(estimator, Xt_pca, Y_train, cv=kfold)\n",
    "print(\"Train: %.2f%% (%.2f%%)\" % (results.mean()*100, results.std()*100))"
   ]
  },
  {
   "cell_type": "code",
   "execution_count": 145,
   "metadata": {},
   "outputs": [
    {
     "name": "stdout",
     "output_type": "stream",
     "text": [
      "Test: 95.00% (3.87%)\n"
     ]
    }
   ],
   "source": [
    "results2 = cross_val_score(estimator, Xv1_pca, Y_test, cv=kfold)\n",
    "print(\"Test: %.2f%% (%.2f%%)\" % (results2.mean()*100, results2.std()*100))"
   ]
  },
  {
   "cell_type": "code",
   "execution_count": null,
   "metadata": {},
   "outputs": [],
   "source": []
  }
 ],
 "metadata": {
  "kernelspec": {
   "display_name": "Python 3",
   "language": "python",
   "name": "python3"
  },
  "language_info": {
   "codemirror_mode": {
    "name": "ipython",
    "version": 3
   },
   "file_extension": ".py",
   "mimetype": "text/x-python",
   "name": "python",
   "nbconvert_exporter": "python",
   "pygments_lexer": "ipython3",
   "version": "3.6.9"
  }
 },
 "nbformat": 4,
 "nbformat_minor": 4
}
